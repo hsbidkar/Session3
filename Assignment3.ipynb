{
 "cells": [
  {
   "cell_type": "markdown",
   "metadata": {},
   "source": [
    "# Assignment 3\n",
    "## Task 1\n",
    "**1.1 : Write a function to compute 5/0 and use try/except to catch the exceptions.**"
   ]
  },
  {
   "cell_type": "code",
   "execution_count": 20,
   "metadata": {},
   "outputs": [
    {
     "name": "stdin",
     "output_type": "stream",
     "text": [
      "Enter the Divident:  55\n",
      "Enter the Divisor:  15\n"
     ]
    },
    {
     "name": "stdout",
     "output_type": "stream",
     "text": [
      "Quotient is: 3.6666666666666665\n"
     ]
    }
   ],
   "source": [
    "def division(a,b):\n",
    "    try:\n",
    "        c = a/b\n",
    "        return c \n",
    "    except ZeroDivisionError:\n",
    "        return \"Divide by Zero Error\"\n",
    "    \n",
    "x1=int(input(\"Enter the Divident: \"))\n",
    "y1=int(input(\"Enter the Divisor: \"))\n",
    "\n",
    "z1= division(x1,y1)\n",
    "print(\"Quotient is: {}\".format(z1))"
   ]
  },
  {
   "cell_type": "code",
   "execution_count": 21,
   "metadata": {},
   "outputs": [
    {
     "name": "stdin",
     "output_type": "stream",
     "text": [
      "Enter the Divident:  5\n",
      "Enter the Divisor:  0\n"
     ]
    },
    {
     "name": "stdout",
     "output_type": "stream",
     "text": [
      "Quotient is: Divide by Zero Error\n"
     ]
    }
   ],
   "source": [
    "x2=int(input(\"Enter the Divident: \"))\n",
    "y2=int(input(\"Enter the Divisor: \"))\n",
    "z2= division(x2,y2)\n",
    "print(\"Quotient is: {}\".format(z2))"
   ]
  },
  {
   "cell_type": "markdown",
   "metadata": {},
   "source": [
    "**1.2 : Implement a Python program to generate all sentences where subject is in [\"Americans\",\"Indians\"] and verb is in [\"Play\", \"watch\"] and the object is in [\"Baseball\",\"cricket\"].**\n",
    "</br>\n",
    "**Output should come as below:\n",
    "Americans play Baseball.\n",
    "Americans play Cricket.\n",
    "Americans watch Baseball.\n",
    "Americans watch Cricket.\n",
    "Indians play Baseball.\n",
    "Indians play Cricket.\n",
    "Indians watch Baseball.\n",
    "Indians watch Cricket.**"
   ]
  },
  {
   "cell_type": "code",
   "execution_count": 22,
   "metadata": {},
   "outputs": [
    {
     "name": "stdout",
     "output_type": "stream",
     "text": [
      "Americans play Baseball.\n",
      "Americans play Cricket.\n",
      "Americans watch Baseball.\n",
      "Americans watch Cricket.\n",
      "Indians play Baseball.\n",
      "Indians play Cricket.\n",
      "Indians watch Baseball.\n",
      "Indians watch Cricket.\n"
     ]
    }
   ],
   "source": [
    "subjects=[\"Americans\",\"Indians\"]\n",
    "verbs=[\"play\",\"watch\"]\n",
    "objects=[\"Baseball\",\"Cricket\"]\n",
    "\n",
    "for i in subjects:\n",
    "    for j in verbs:\n",
    "        for k in objects:\n",
    "            print(\"{} {} {}.\".format(i,j,k))"
   ]
  },
  {
   "cell_type": "markdown",
   "metadata": {},
   "source": [
    "## Task 2"
   ]
  },
  {
   "cell_type": "markdown",
   "metadata": {},
   "source": [
    "**1 . Write a function so that the columns of the output matrix are powers of the input vector.**\n",
    "</br>**The order of the powers is determined by the increasing boolean argument. Specifically, when\n",
    "increasing is False, the i-th output column is the input vector raised element-wise to the power\n",
    "of N - i - 1.**"
   ]
  },
  {
   "cell_type": "code",
   "execution_count": 23,
   "metadata": {},
   "outputs": [
    {
     "data": {
      "text/plain": [
       "array([[ 1,  1,  1],\n",
       "       [ 9,  3,  1],\n",
       "       [25,  5,  1],\n",
       "       [ 4,  2,  1]])"
      ]
     },
     "execution_count": 23,
     "metadata": {},
     "output_type": "execute_result"
    }
   ],
   "source": [
    "import numpy as np\n",
    "\n",
    "def vandermonde(vector,N=None,increasing=False) :\n",
    "    vector_arr = np.asarray(vector)\n",
    "    if N is None:\n",
    "        N = len(vector_arr)\n",
    "    power = len(vector_arr)\n",
    "    tmp = np.empty((power, N), dtype=int)\n",
    "    for i in range(0,power):\n",
    "        for j in range(0,N):\n",
    "            tmp[i][j] = (vector_arr[i]**(N-1-j))\n",
    "    matrix = tmp[:, ::-1] if increasing else tmp         \n",
    "    return np.asarray(matrix)\n",
    "\n",
    "v = [1 , 3 , 5 , 2]\n",
    "mat_vf=vandermonde(v,3)\n",
    "mat_vf"
   ]
  },
  {
   "cell_type": "code",
   "execution_count": 24,
   "metadata": {},
   "outputs": [
    {
     "data": {
      "text/plain": [
       "array([[  1,   1,   1,   1,   1],\n",
       "       [  1,   3,   9,  27,  81],\n",
       "       [  1,   5,  25, 125, 625],\n",
       "       [  1,   2,   4,   8,  16]])"
      ]
     },
     "execution_count": 24,
     "metadata": {},
     "output_type": "execute_result"
    }
   ],
   "source": [
    "mat_vt=vandermonde(v,5,increasing=True)\n",
    "mat_vt"
   ]
  },
  {
   "cell_type": "code",
   "execution_count": 25,
   "metadata": {},
   "outputs": [
    {
     "data": {
      "text/plain": [
       "array([[    1,     1,     1,     1,     1,     1,     1,     1],\n",
       "       [    1,     3,     9,    27,    81,   243,   729,  2187],\n",
       "       [    1,     5,    25,   125,   625,  3125, 15625, 78125],\n",
       "       [    1,     2,     4,     8,    16,    32,    64,   128]])"
      ]
     },
     "execution_count": 25,
     "metadata": {},
     "output_type": "execute_result"
    }
   ],
   "source": [
    "mat_vnt=vandermonde(v,8,increasing=True)\n",
    "mat_vnt"
   ]
  },
  {
   "cell_type": "code",
   "execution_count": 26,
   "metadata": {},
   "outputs": [
    {
     "data": {
      "text/plain": [
       "array([], shape=(4, 0), dtype=int32)"
      ]
     },
     "execution_count": 26,
     "metadata": {},
     "output_type": "execute_result"
    }
   ],
   "source": [
    "mat_vnf=vandermonde(v,0)\n",
    "mat_vnf"
   ]
  }
 ],
 "metadata": {
  "kernelspec": {
   "display_name": "Python 3",
   "language": "python",
   "name": "python3"
  },
  "language_info": {
   "codemirror_mode": {
    "name": "ipython",
    "version": 3
   },
   "file_extension": ".py",
   "mimetype": "text/x-python",
   "name": "python",
   "nbconvert_exporter": "python",
   "pygments_lexer": "ipython3",
   "version": "3.7.1"
  }
 },
 "nbformat": 4,
 "nbformat_minor": 2
}
